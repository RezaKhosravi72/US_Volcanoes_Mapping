{
 "cells": [
  {
   "cell_type": "markdown",
   "id": "2132b01c-b001-496f-a631-f1107f2d61a2",
   "metadata": {},
   "source": [
    "# World Population and US Volcanoes Mapping "
   ]
  },
  {
   "cell_type": "markdown",
   "id": "eb00e489-0380-4603-8f10-6956bef33848",
   "metadata": {},
   "source": [
    "This project aims to visualize the locations of volcanoes across the United States on an interactive map and compare them with world population data. It utilizes Python libraries folium for mapping and pandas to parse datasets."
   ]
  },
  {
   "cell_type": "markdown",
   "id": "5ecdce12-6376-4c8e-8781-dd4a3ad2476e",
   "metadata": {},
   "source": [
    "## Import Libraries - folium for mapping and pandas to read CSV data"
   ]
  },
  {
   "cell_type": "code",
   "execution_count": 1,
   "id": "68c5e26a-08e1-4bc2-ac59-6dc247cbfd3e",
   "metadata": {},
   "outputs": [],
   "source": [
    "import folium\n",
    "import pandas as pd"
   ]
  },
  {
   "cell_type": "markdown",
   "id": "40e0dab1-c573-462d-b6ed-e17b9c8822ce",
   "metadata": {},
   "source": [
    "## Read volcanoes data "
   ]
  },
  {
   "cell_type": "code",
   "execution_count": 2,
   "id": "07b8eab6-bcf6-4fdf-b828-1de5bb3f21e3",
   "metadata": {},
   "outputs": [],
   "source": [
    "data = pd.read_csv(\"Volcanoes.txt\")"
   ]
  },
  {
   "cell_type": "markdown",
   "id": "1c9c2d89-58dc-4bbd-accd-580f32eea03e",
   "metadata": {},
   "source": [
    "## Visualizing Data"
   ]
  },
  {
   "cell_type": "code",
   "execution_count": 3,
   "id": "21758c97-205c-4f9e-b9f3-09e83f7f297a",
   "metadata": {},
   "outputs": [
    {
     "data": {
      "text/html": [
       "<div>\n",
       "<style scoped>\n",
       "    .dataframe tbody tr th:only-of-type {\n",
       "        vertical-align: middle;\n",
       "    }\n",
       "\n",
       "    .dataframe tbody tr th {\n",
       "        vertical-align: top;\n",
       "    }\n",
       "\n",
       "    .dataframe thead th {\n",
       "        text-align: right;\n",
       "    }\n",
       "</style>\n",
       "<table border=\"1\" class=\"dataframe\">\n",
       "  <thead>\n",
       "    <tr style=\"text-align: right;\">\n",
       "      <th></th>\n",
       "      <th>VOLCANX020</th>\n",
       "      <th>NUMBER</th>\n",
       "      <th>NAME</th>\n",
       "      <th>LOCATION</th>\n",
       "      <th>STATUS</th>\n",
       "      <th>ELEV</th>\n",
       "      <th>TYPE</th>\n",
       "      <th>TIMEFRAME</th>\n",
       "      <th>LAT</th>\n",
       "      <th>LON</th>\n",
       "    </tr>\n",
       "  </thead>\n",
       "  <tbody>\n",
       "    <tr>\n",
       "      <th>59</th>\n",
       "      <td>584.0</td>\n",
       "      <td>1203-20-</td>\n",
       "      <td>Amboy</td>\n",
       "      <td>US-California</td>\n",
       "      <td>Holocene</td>\n",
       "      <td>288.0</td>\n",
       "      <td>Cinder cone</td>\n",
       "      <td>U</td>\n",
       "      <td>34.549999</td>\n",
       "      <td>-115.780998</td>\n",
       "    </tr>\n",
       "    <tr>\n",
       "      <th>60</th>\n",
       "      <td>586.0</td>\n",
       "      <td>1210-02-</td>\n",
       "      <td>Zuni-Bandera</td>\n",
       "      <td>US-New Mexico</td>\n",
       "      <td>Anthropology</td>\n",
       "      <td>2550.0</td>\n",
       "      <td>Volcanic field</td>\n",
       "      <td>D7</td>\n",
       "      <td>34.799999</td>\n",
       "      <td>-108.001000</td>\n",
       "    </tr>\n",
       "    <tr>\n",
       "      <th>61</th>\n",
       "      <td>588.0</td>\n",
       "      <td>1210-01-</td>\n",
       "      <td>Carrizozo</td>\n",
       "      <td>US-New Mexico</td>\n",
       "      <td>Holocene</td>\n",
       "      <td>1731.0</td>\n",
       "      <td>Cinder cone</td>\n",
       "      <td>U</td>\n",
       "      <td>33.780102</td>\n",
       "      <td>-105.931000</td>\n",
       "    </tr>\n",
       "  </tbody>\n",
       "</table>\n",
       "</div>"
      ],
      "text/plain": [
       "    VOLCANX020    NUMBER          NAME       LOCATION        STATUS    ELEV  \\\n",
       "59       584.0  1203-20-         Amboy  US-California      Holocene   288.0   \n",
       "60       586.0  1210-02-  Zuni-Bandera  US-New Mexico  Anthropology  2550.0   \n",
       "61       588.0  1210-01-     Carrizozo  US-New Mexico      Holocene  1731.0   \n",
       "\n",
       "              TYPE TIMEFRAME        LAT         LON  \n",
       "59     Cinder cone         U  34.549999 -115.780998  \n",
       "60  Volcanic field        D7  34.799999 -108.001000  \n",
       "61     Cinder cone         U  33.780102 -105.931000  "
      ]
     },
     "execution_count": 3,
     "metadata": {},
     "output_type": "execute_result"
    }
   ],
   "source": [
    "data.tail(3)"
   ]
  },
  {
   "cell_type": "markdown",
   "id": "c504f09c-cf4d-45d8-8b86-dbe86a69a071",
   "metadata": {},
   "source": [
    "## Extract latitude, longitude, name and elevation"
   ]
  },
  {
   "cell_type": "code",
   "execution_count": 4,
   "id": "645e4d73-aabd-4842-bb73-7b4f7ecfcae2",
   "metadata": {},
   "outputs": [],
   "source": [
    "lat = list(data.LAT)\n",
    "lon = list(data.LON)\n",
    "name = list(data.NAME)\n",
    "elev = list(data[\"ELEV\"])"
   ]
  },
  {
   "cell_type": "code",
   "execution_count": 5,
   "id": "cc09e801-5087-43a2-81cd-3df866241e2f",
   "metadata": {},
   "outputs": [
    {
     "data": {
      "text/plain": [
       "4392.0"
      ]
     },
     "execution_count": 5,
     "metadata": {},
     "output_type": "execute_result"
    }
   ],
   "source": [
    "max(elev)"
   ]
  },
  {
   "cell_type": "markdown",
   "id": "f00e36d9-210c-46f0-bd7a-35a59b53126a",
   "metadata": {},
   "source": [
    "## Define a function to color code markers based on elevation"
   ]
  },
  {
   "cell_type": "code",
   "execution_count": 6,
   "id": "d7e27288-8230-404f-9a85-aa882666b929",
   "metadata": {},
   "outputs": [],
   "source": [
    "def get_color(x):\n",
    "    colors = ['green', 'orange', 'red']\n",
    "    opacity = x / 4392\n",
    "    if opacity < .4:\n",
    "        return colors[0]\n",
    "    elif opacity < .8:\n",
    "        return colors[1]\n",
    "    else:\n",
    "        return colors[2]"
   ]
  },
  {
   "cell_type": "markdown",
   "id": "c77f6770-5e26-4707-a539-52742ddf7508",
   "metadata": {},
   "source": [
    "## Create a Folium map "
   ]
  },
  {
   "cell_type": "code",
   "execution_count": 7,
   "id": "80a53808-d0ef-4ee2-b6c5-7f6f7ce8fac4",
   "metadata": {},
   "outputs": [],
   "source": [
    "map = folium.Map(location=[35.747521620880214, 51.425803830708546], zoom_start=4.5, tiles='OpenStreetMap')\n",
    "\n",
    "fg_v = folium.FeatureGroup(name=\"US Volcanoes\")\n",
    "\n",
    "for x, y, name, elev in zip(lat, lon, name, elev):\n",
    "    \n",
    "    popup = name + '\\nElevation: ' +str(elev)+' m'\n",
    "    fg_v.add_child(folium.CircleMarker(location=[x, y], radius=8, popup=popup, fill_color=get_color(elev), fill=True,\n",
    "                                    color=get_color(elev), fill_opacity=.8))"
   ]
  },
  {
   "cell_type": "code",
   "execution_count": 8,
   "id": "9e13ebd4-9d8c-4407-b9e2-dd45953752a5",
   "metadata": {},
   "outputs": [
    {
     "data": {
      "text/plain": [
       "<folium.map.FeatureGroup at 0x11d17f2d0>"
      ]
     },
     "execution_count": 8,
     "metadata": {},
     "output_type": "execute_result"
    }
   ],
   "source": [
    "fg_pop = folium.FeatureGroup(name=\"World Population\")\n",
    "\n",
    "\n",
    "fg_pop.add_child(folium.GeoJson(data=open(\"world.json\", 'r', encoding='utf-8-sig').read(), \n",
    "                                  style_function = lambda x: {'fillColor':'green' if x['properties']['POP2005']<10**7 else 'yellow'\n",
    "                                                             if 10**7<=x['properties']['POP2005']<10**8 else 'red'}))"
   ]
  },
  {
   "cell_type": "code",
   "execution_count": 9,
   "id": "676d82c8-f009-4589-b68f-489d106c70bf",
   "metadata": {},
   "outputs": [],
   "source": [
    "map.add_child(fg_v)\n",
    "map.add_child(fg_pop)\n",
    "map.add_child(folium.LayerControl())"
   ]
  },
  {
   "cell_type": "markdown",
   "id": "74a5b9c8-0d82-49dd-bbc4-33d6c01ef3ab",
   "metadata": {},
   "source": [
    "## Save map to HTML file"
   ]
  },
  {
   "cell_type": "code",
   "execution_count": null,
   "id": "aa416889-cd7c-405e-98b3-dda5d1cf2562",
   "metadata": {},
   "outputs": [],
   "source": [
    "map.save('World_Population_&_US_Volcanoes.html')"
   ]
  }
 ],
 "metadata": {
  "kernelspec": {
   "display_name": "Python 3 (ipykernel)",
   "language": "python",
   "name": "python3"
  },
  "language_info": {
   "codemirror_mode": {
    "name": "ipython",
    "version": 3
   },
   "file_extension": ".py",
   "mimetype": "text/x-python",
   "name": "python",
   "nbconvert_exporter": "python",
   "pygments_lexer": "ipython3",
   "version": "3.11.6"
  }
 },
 "nbformat": 4,
 "nbformat_minor": 5
}
